{
  "nbformat": 4,
  "nbformat_minor": 0,
  "metadata": {
    "colab": {
      "provenance": [],
      "gpuType": "T4"
    },
    "kernelspec": {
      "name": "python3",
      "display_name": "Python 3"
    },
    "language_info": {
      "name": "python"
    },
    "accelerator": "GPU"
  },
  "cells": [
    {
      "cell_type": "code",
      "execution_count": null,
      "metadata": {
        "colab": {
          "base_uri": "https://localhost:8080/"
        },
        "id": "F17uNImsHLio",
        "outputId": "47cb6025-b712-4d58-a506-f8d64b08e74e"
      },
      "outputs": [
        {
          "output_type": "stream",
          "name": "stdout",
          "text": [
            "Mounted at /content/drive\n"
          ]
        }
      ],
      "source": [
        "from google.colab import drive\n",
        "drive.mount('/content/drive')\n"
      ]
    },
    {
      "cell_type": "code",
      "source": [
        "!pip install Pillow"
      ],
      "metadata": {
        "colab": {
          "base_uri": "https://localhost:8080/"
        },
        "id": "KT1DTP2rHPWC",
        "outputId": "87954f7d-a9d7-447f-ea9b-78308763a912"
      },
      "execution_count": null,
      "outputs": [
        {
          "output_type": "stream",
          "name": "stdout",
          "text": [
            "Requirement already satisfied: Pillow in /usr/local/lib/python3.10/dist-packages (9.4.0)\n"
          ]
        }
      ]
    },
    {
      "cell_type": "code",
      "source": [
        "import tensorflow as tf\n",
        "import glob\n",
        "import imageio\n",
        "import matplotlib.pyplot as plt\n",
        "import numpy as np\n",
        "import os\n",
        "import cv2\n",
        "from tensorflow.keras import layers\n",
        "from tensorflow import keras\n",
        "from tensorflow.keras.models import Sequential\n",
        "from tensorflow.keras import layers\n",
        "from tensorflow.keras.models import Model\n",
        "from tensorflow.keras.optimizers import Adam\n",
        "import time\n",
        "from IPython import display"
      ],
      "metadata": {
        "id": "A33SI2JhHQKD"
      },
      "execution_count": null,
      "outputs": []
    },
    {
      "cell_type": "code",
      "source": [
        "print(tf.version.VERSION)"
      ],
      "metadata": {
        "colab": {
          "base_uri": "https://localhost:8080/"
        },
        "id": "-EExMv7GHjXT",
        "outputId": "b9921ef7-b2bc-4f9f-ba8f-e9d9d5e8e8d3"
      },
      "execution_count": null,
      "outputs": [
        {
          "output_type": "stream",
          "name": "stdout",
          "text": [
            "2.15.0\n"
          ]
        }
      ]
    },
    {
      "cell_type": "code",
      "source": [
        "foreset_fire_data_dir = '/content/drive/MyDrive/GANs vs Diffusion/data/fire_250'"
      ],
      "metadata": {
        "id": "9_4jN9XTHzud"
      },
      "execution_count": null,
      "outputs": []
    },
    {
      "cell_type": "code",
      "source": [
        "train_images = tf.keras.utils.image_dataset_from_directory(\n",
        "    foreset_fire_data_dir, label_mode=None, image_size=(64, 64), batch_size=32\n",
        ")"
      ],
      "metadata": {
        "colab": {
          "base_uri": "https://localhost:8080/"
        },
        "id": "DXgkklFBHlDm",
        "outputId": "95fda925-7532-4436-a2fd-584e70aa2127"
      },
      "execution_count": null,
      "outputs": [
        {
          "output_type": "stream",
          "name": "stdout",
          "text": [
            "Found 950 files belonging to 1 classes.\n"
          ]
        }
      ]
    },
    {
      "cell_type": "code",
      "source": [
        "image_batch = next(iter(train_images))\n",
        "random_index = np.random.choice(image_batch.shape[0])\n",
        "random_image = image_batch[random_index].numpy().astype(\"int32\")\n",
        "plt.axis(\"off\")\n",
        "plt.imshow(random_image)\n",
        "plt.show()"
      ],
      "metadata": {
        "colab": {
          "base_uri": "https://localhost:8080/",
          "height": 406
        },
        "id": "lzlFeGn-H88_",
        "outputId": "d661a67f-9b5c-4772-e5b5-83183a2f439f"
      },
      "execution_count": null,
      "outputs": [
        {
          "output_type": "display_data",
          "data": {
            "text/plain": [
              "<Figure size 640x480 with 1 Axes>"
            ],
            "image/png": "[encoded data removed]"
          },
          "metadata": {}
        }
      ]
    },
    {
      "cell_type": "code",
      "source": [
        "## Preprocessing"
      ],
      "metadata": {
        "id": "evZ5gnZ4H_m1"
      },
      "execution_count": null,
      "outputs": []
    },
    {
      "cell_type": "code",
      "source": [
        "# Normalize the images to [-1, 1] which is the range of the tanh activation\n",
        "train_images = train_images.map(lambda x: (x - 127.5) / 127.5)"
      ],
      "metadata": {
        "id": "TSxNIFoJICx-"
      },
      "execution_count": null,
      "outputs": []
    },
    {
      "cell_type": "code",
      "source": [
        "# latent dimension of the random noise\n",
        "LATENT_DIM = 100\n",
        "# weight initializer for G per DCGAN paper\n",
        "WEIGHT_INIT = tf.keras.initializers.RandomNormal(mean=0.0, stddev=0.02)\n",
        "# number of channels, 1 for gray scale and 3 for color images\n",
        "CHANNELS = 3 # UPDATED from 1"
      ],
      "metadata": {
        "id": "vTCppIv8IDGO"
      },
      "execution_count": null,
      "outputs": []
    },
    {
      "cell_type": "code",
      "source": [
        "def build_generator():\n",
        "    # create a Keras Sequential model\n",
        "    model = Sequential(name='generator')\n",
        "\n",
        "    # prepare for reshape: FC => BN => RN layers, note: input shape defined in the 1st Dense layer\n",
        "    model.add(layers.Dense(8 * 8 * 512, input_dim=LATENT_DIM))\n",
        "    # model.add(layers.BatchNormalization())\n",
        "    model.add(layers.ReLU())\n",
        "    # layers.LeakyReLU(alpha=0.2),\n",
        "\n",
        "    # 1D => 3D: reshape the output of the previous layer\n",
        "    model.add(layers.Reshape((8, 8, 512)))\n",
        "\n",
        "    # upsample to 16x16: apply a transposed CONV => BN => RELU\n",
        "    model.add(layers.Conv2DTranspose(256, (4, 4), strides=(2, 2),padding=\"same\", kernel_initializer=WEIGHT_INIT))\n",
        "    # model.add(layers.BatchNormalization())\n",
        "    model.add((layers.ReLU()))\n",
        "\n",
        "    # upsample to 32x32: apply a transposed CONV => BN => RELU\n",
        "    model.add(layers.Conv2DTranspose(128, (4, 4), strides=(2, 2),padding=\"same\", kernel_initializer=WEIGHT_INIT))\n",
        "    # model.add(layers.BatchNormalization())\n",
        "    model.add((layers.ReLU()))\n",
        "\n",
        "    # upsample to 64x64: apply a transposed CONV => BN => RELU\n",
        "    model.add(layers.Conv2DTranspose(64, (4, 4), strides=(2, 2),padding=\"same\", kernel_initializer=WEIGHT_INIT))\n",
        "    # model.add(layers.BatchNormalization())\n",
        "    model.add((layers.ReLU()))\n",
        "\n",
        "    # final layer: Conv2D with tanh activation\n",
        "    model.add(layers.Conv2D(CHANNELS, (4, 4), padding=\"same\", activation=\"tanh\"))\n",
        "\n",
        "    # return the generator model\n",
        "    return model"
      ],
      "metadata": {
        "id": "bgvONbpCIJEL"
      },
      "execution_count": null,
      "outputs": []
    },
    {
      "cell_type": "code",
      "source": [
        "# build the generator model\n",
        "generator = build_generator()"
      ],
      "metadata": {
        "colab": {
          "base_uri": "https://localhost:8080/"
        },
        "id": "y9CsQB8-IKWo",
        "outputId": "c7ceb3fe-d69b-4502-bacf-fbb3a1b9642c"
      },
      "execution_count": null,
      "outputs": [
        {
          "output_type": "stream",
          "name": "stderr",
          "text": [
            "/usr/local/lib/python3.10/dist-packages/keras/src/initializers/initializers.py:120: UserWarning: The initializer RandomNormal is unseeded and being called multiple times, which will return identical values each time (even if the initializer is unseeded). Please update your code to provide a seed to the initializer, or avoid using the same initializer instance more than once.\n",
            "  warnings.warn(\n"
          ]
        }
      ]
    },
    {
      "cell_type": "code",
      "source": [
        "generator.summary()"
      ],
      "metadata": {
        "colab": {
          "base_uri": "https://localhost:8080/"
        },
        "id": "qlxc2fvcInmh",
        "outputId": "a846e789-bb42-42dd-b7a7-1e285cc2fbca"
      },
      "execution_count": null,
      "outputs": [
        {
          "output_type": "stream",
          "name": "stdout",
          "text": [
            "Model: \"generator\"\n",
            "_________________________________________________________________\n",
            " Layer (type)                Output Shape              Param #   \n",
            "=================================================================\n",
            " dense (Dense)               (None, 32768)             3309568   \n",
            "                                                                 \n",
            " re_lu (ReLU)                (None, 32768)             0         \n",
            "                                                                 \n",
            " reshape (Reshape)           (None, 8, 8, 512)         0         \n",
            "                                                                 \n",
            " conv2d_transpose (Conv2DTr  (None, 16, 16, 256)       2097408   \n",
            " anspose)                                                        \n",
            "                                                                 \n",
            " re_lu_1 (ReLU)              (None, 16, 16, 256)       0         \n",
            "                                                                 \n",
            " conv2d_transpose_1 (Conv2D  (None, 32, 32, 128)       524416    \n",
            " Transpose)                                                      \n",
            "                                                                 \n",
            " re_lu_2 (ReLU)              (None, 32, 32, 128)       0         \n",
            "                                                                 \n",
            " conv2d_transpose_2 (Conv2D  (None, 64, 64, 64)        131136    \n",
            " Transpose)                                                      \n",
            "                                                                 \n",
            " re_lu_3 (ReLU)              (None, 64, 64, 64)        0         \n",
            "                                                                 \n",
            " conv2d (Conv2D)             (None, 64, 64, 3)         3075      \n",
            "                                                                 \n",
            "=================================================================\n",
            "Total params: 6065603 (23.14 MB)\n",
            "Trainable params: 6065603 (23.14 MB)\n",
            "Non-trainable params: 0 (0.00 Byte)\n",
            "_________________________________________________________________\n"
          ]
        }
      ]
    },
    {
      "cell_type": "code",
      "source": [
        "def build_discriminator(height, width, depth, alpha=0.2):\n",
        "    # create a Keras Sequential model\n",
        "    model = Sequential(name='discriminator')\n",
        "    input_shape = (height, width, depth)\n",
        "\n",
        "    # 1. first set of CONV => BN => leaky ReLU layers\n",
        "    model.add(layers.Conv2D(64, (4, 4), padding=\"same\", strides=(2, 2),\n",
        "        input_shape=input_shape))\n",
        "    model.add(layers.BatchNormalization())\n",
        "    model.add(layers.LeakyReLU(alpha=alpha))\n",
        "\n",
        "    # 2. second set of CONV => BN => leacy ReLU layers\n",
        "    model.add(layers.Conv2D(128, (4, 4), padding=\"same\", strides=(2, 2)))\n",
        "    model.add(layers.BatchNormalization())\n",
        "    model.add(layers.LeakyReLU(alpha=alpha))\n",
        "\n",
        "    # 3. third set of CONV => BN => leacy ReLU layers\n",
        "    model.add(layers.Conv2D(128, (4, 4), padding=\"same\", strides=(2, 2)))\n",
        "    model.add(layers.BatchNormalization())\n",
        "    model.add(layers.LeakyReLU(alpha=alpha))\n",
        "\n",
        "    # flatten and apply dropout\n",
        "    model.add(layers.Flatten())\n",
        "    model.add(layers.Dropout(0.3))\n",
        "\n",
        "    # sigmoid in the last layer outputting a single value for binary classification\n",
        "    model.add(layers.Dense(1, activation=\"sigmoid\"))\n",
        "\n",
        "    # return the discriminator model\n",
        "    return model"
      ],
      "metadata": {
        "id": "hrC2nU32IpOJ"
      },
      "execution_count": null,
      "outputs": []
    },
    {
      "cell_type": "code",
      "source": [
        "# build the discriminator model\n",
        "discriminator = build_discriminator(64, 64, 3)"
      ],
      "metadata": {
        "id": "cIuxjPcJIxZ0"
      },
      "execution_count": null,
      "outputs": []
    },
    {
      "cell_type": "code",
      "source": [
        "discriminator.summary()"
      ],
      "metadata": {
        "colab": {
          "base_uri": "https://localhost:8080/"
        },
        "id": "Yo7tE-x2I0HT",
        "outputId": "94ef43eb-6969-4016-d8cf-9537d44b91f5"
      },
      "execution_count": null,
      "outputs": [
        {
          "output_type": "stream",
          "name": "stdout",
          "text": [
            "Model: \"discriminator\"\n",
            "_________________________________________________________________\n",
            " Layer (type)                Output Shape              Param #   \n",
            "=================================================================\n",
            " conv2d_1 (Conv2D)           (None, 32, 32, 64)        3136      \n",
            "                                                                 \n",
            " batch_normalization (Batch  (None, 32, 32, 64)        256       \n",
            " Normalization)                                                  \n",
            "                                                                 \n",
            " leaky_re_lu (LeakyReLU)     (None, 32, 32, 64)        0         \n",
            "                                                                 \n",
            " conv2d_2 (Conv2D)           (None, 16, 16, 128)       131200    \n",
            "                                                                 \n",
            " batch_normalization_1 (Bat  (None, 16, 16, 128)       512       \n",
            " chNormalization)                                                \n",
            "                                                                 \n",
            " leaky_re_lu_1 (LeakyReLU)   (None, 16, 16, 128)       0         \n",
            "                                                                 \n",
            " conv2d_3 (Conv2D)           (None, 8, 8, 128)         262272    \n",
            "                                                                 \n",
            " batch_normalization_2 (Bat  (None, 8, 8, 128)         512       \n",
            " chNormalization)                                                \n",
            "                                                                 \n",
            " leaky_re_lu_2 (LeakyReLU)   (None, 8, 8, 128)         0         \n",
            "                                                                 \n",
            " flatten (Flatten)           (None, 8192)              0         \n",
            "                                                                 \n",
            " dropout (Dropout)           (None, 8192)              0         \n",
            "                                                                 \n",
            " dense_1 (Dense)             (None, 1)                 8193      \n",
            "                                                                 \n",
            "=================================================================\n",
            "Total params: 406081 (1.55 MB)\n",
            "Trainable params: 405441 (1.55 MB)\n",
            "Non-trainable params: 640 (2.50 KB)\n",
            "_________________________________________________________________\n"
          ]
        }
      ]
    },
    {
      "cell_type": "code",
      "source": [
        "class DCGAN(keras.Model):\n",
        "    def __init__(self, discriminator, generator, latent_dim):\n",
        "        super().__init__()\n",
        "        self.discriminator = discriminator\n",
        "        self.generator = generator\n",
        "        self.latent_dim = latent_dim\n",
        "        self.d_loss_metric = keras.metrics.Mean(name=\"d_loss\")\n",
        "        self.g_loss_metric = keras.metrics.Mean(name=\"g_loss\")\n",
        "        self.d_loss_array = []\n",
        "        self.g_loss_array = []\n",
        "\n",
        "    def compile(self, d_optimizer, g_optimizer, loss_fn):\n",
        "        super(DCGAN, self).compile()\n",
        "        self.d_optimizer = d_optimizer\n",
        "        self.g_optimizer = g_optimizer\n",
        "        self.loss_fn = loss_fn\n",
        "\n",
        "    @property\n",
        "    def metrics(self):\n",
        "        return [self.d_loss_metric, self.g_loss_metric]\n",
        "\n",
        "    def train_step(self, real_images):\n",
        "\n",
        "        batch_size = tf.shape(real_images)[0]\n",
        "        noise = tf.random.normal(shape=(batch_size, self.latent_dim))\n",
        "\n",
        "        # Step 1. Train the discriminator with both real images (label as 1) and fake images (classified as label as 0)\n",
        "        with tf.GradientTape() as tape:\n",
        "            # Compute discriminator loss on real images\n",
        "            pred_real = self.discriminator(real_images, training=True)\n",
        "            real_labels = tf.ones((batch_size, 1))\n",
        "            # UPDATED: apply one-sided label smoothing to real labels\n",
        "            real_labels += 0.05 * tf.random.uniform(tf.shape(real_labels))\n",
        "            d_loss_real = self.loss_fn(real_labels, pred_real)\n",
        "\n",
        "            # Compute discriminator loss on fake images\n",
        "            fake_images = self.generator(noise)\n",
        "            pred_fake = self.discriminator(fake_images, training=True)\n",
        "            fake_labels = tf.zeros((batch_size, 1))\n",
        "            # UPDATED: add random noise to fake labels - not needed\n",
        "            # fake_labels += 0.05 * tf.random.uniform(tf.shape(fake_labels))\n",
        "            d_loss_fake = self.loss_fn(fake_labels, pred_fake)\n",
        "\n",
        "            # total discriminator loss\n",
        "            d_loss = (d_loss_real + d_loss_fake)/2\n",
        "        # Compute discriminator gradients\n",
        "        grads = tape.gradient(d_loss, self.discriminator.trainable_variables)\n",
        "        # Update discriminator weights\n",
        "        self.d_optimizer.apply_gradients(zip(grads, self.discriminator.trainable_variables))\n",
        "\n",
        "        # Step 2. Train the generator (do not update weights of the discriminator)\n",
        "        misleading_labels = tf.ones((batch_size, 1)) # G wants D to think the fake images are real (label as 1)\n",
        "\n",
        "        with tf.GradientTape() as tape:\n",
        "            fake_images = self.generator(noise, training=True)\n",
        "            pred_fake = self.discriminator(fake_images, training=True)\n",
        "            g_loss = self.loss_fn(misleading_labels, pred_fake)\n",
        "        # Compute generator gradients\n",
        "        grads = tape.gradient(g_loss, self.generator.trainable_variables)\n",
        "        # Update generator wieghts\n",
        "        self.g_optimizer.apply_gradients(zip(grads, self.generator.trainable_variables))\n",
        "\n",
        "        self.d_loss_metric.update_state(d_loss)\n",
        "        self.g_loss_metric.update_state(g_loss)\n",
        "\n",
        "        return {\"d_loss\": self.d_loss_metric.result(), \"g_loss\": self.g_loss_metric.result()}"
      ],
      "metadata": {
        "id": "xW3XTCpuI1ay"
      },
      "execution_count": null,
      "outputs": []
    },
    {
      "cell_type": "code",
      "source": [
        "class GANMonitor(keras.callbacks.Callback):\n",
        "    def __init__(self, num_img=3, latent_dim=100):\n",
        "        self.num_img = num_img\n",
        "        self.latent_dim = latent_dim\n",
        "        self.d_loss_array = []  # To store discriminator losses\n",
        "        self.g_loss_array = []  # To store generator losses\n",
        "        self.epoch_counter = 0\n",
        "\n",
        "        # Create random noise seed for visualization during traing\n",
        "        self.seed = tf.random.normal([16, latent_dim])\n",
        "\n",
        "    # def on_epoch_end(self, epoch, logs=None):\n",
        "    #     generated_images = self.model.generator(self.seed)\n",
        "    #     generated_images = (generated_images * 127.5) + 127.5\n",
        "    #     generated_images.numpy()\n",
        "\n",
        "    #     if logs is not None:\n",
        "    #         self.d_loss_array.append(logs.get('d_loss'))\n",
        "    #         self.g_loss_array.append(logs.get('g_loss'))\n",
        "\n",
        "    #     fig = plt.figure(figsize=(8, 8))\n",
        "    #     for i in range(self.num_img):\n",
        "    #         plt.subplot(4, 4, i+1)\n",
        "    #         img = keras.utils.array_to_img(generated_images[i])\n",
        "    #         plt.imshow(img)\n",
        "    #         plt.axis('off')\n",
        "    #     plt.savefig('epoch_{:03d}.png'.format(epoch))\n",
        "    #     # plt.show()\n",
        "\n",
        "\n",
        "    def on_epoch_end(self, epoch, logs=None):\n",
        "\n",
        "        if logs is not None:\n",
        "            self.d_loss_array.append(logs.get('d_loss'))\n",
        "            self.g_loss_array.append(logs.get('g_loss'))\n",
        "\n",
        "        self.epoch_counter += 1\n",
        "        if self.epoch_counter % 100 == 0:  # Save images every 20 epochs\n",
        "            generated_images = self.model.generator(self.seed)\n",
        "            generated_images = (generated_images * 127.5) + 127.5\n",
        "            generated_images.numpy()\n",
        "\n",
        "            fig = plt.figure(figsize=(8, 8))\n",
        "            for i in range(self.num_img):\n",
        "                plt.subplot(4, 4, i+1)\n",
        "                img = keras.utils.array_to_img(generated_images[i])\n",
        "                plt.imshow(img)\n",
        "                plt.axis('off')\n",
        "            plt.savefig('epoch_{:03d}.png'.format(epoch))\n",
        "            plt.close()\n",
        "        if self.epoch_counter % 100 == 0:  # Save images every 100 epochs\n",
        "            generated_images = self.model.generator(tf.random.normal([500, self.latent_dim]))\n",
        "            generated_images = (generated_images * 127.5) + 127.5\n",
        "            generated_images.numpy()\n",
        "            output_dir = \"generated_images_\"+str(self.epoch_counter)\n",
        "\n",
        "            os.makedirs(output_dir, exist_ok=True)\n",
        "            for i, img_array in enumerate(generated_images):\n",
        "\n",
        "                generated_images = (generated_images * 127.5) + 127.5\n",
        "                generated_images.numpy()\n",
        "\n",
        "                # Convert the image array to uint8\n",
        "                img_array = tf.cast(img_array, tf.uint8)\n",
        "                # Encode image to PNG format\n",
        "                img = tf.image.encode_png(img_array)\n",
        "                # print(img)\n",
        "                # Write the PNG image to a file\n",
        "                img_path = os.path.join(output_dir, f\"generated_image_{i}.png\")\n",
        "                tf.io.write_file(img_path, img)\n",
        "\n",
        "\n",
        "    def on_train_end(self, logs=None):\n",
        "        self.model.generator.save('generator.h5')\n",
        "        # Plotting loss curves\n",
        "        plt.figure(figsize=(10, 5))\n",
        "        plt.plot(self.d_loss_array, label=\"Discriminator Loss\")\n",
        "        plt.plot(self.g_loss_array, label=\"Generator Loss\")\n",
        "        plt.title(\"Training Losses\")\n",
        "        plt.xlabel(\"Iterations\")\n",
        "        plt.ylabel(\"Loss\")\n",
        "        plt.legend()\n",
        "        plt.savefig('loss_curves.png')\n",
        "        plt.show()"
      ],
      "metadata": {
        "id": "oTjjTsDeI4nL"
      },
      "execution_count": null,
      "outputs": []
    },
    {
      "cell_type": "code",
      "source": [
        "dcgan = DCGAN(discriminator=discriminator, generator=generator, latent_dim=LATENT_DIM)"
      ],
      "metadata": {
        "id": "8WnjkRo8I6OK"
      },
      "execution_count": null,
      "outputs": []
    },
    {
      "cell_type": "code",
      "source": [
        "D_LR = 0.0001 # UPDATED: discriminator learning rate\n",
        "G_LR = 0.0003 # UPDATED: generator learning rate\n",
        "\n",
        "dcgan.compile(\n",
        "    d_optimizer=keras.optimizers.Adam(learning_rate=D_LR, beta_1 = 0.5),\n",
        "    g_optimizer=keras.optimizers.Adam(learning_rate=G_LR, beta_1 = 0.5),\n",
        "    loss_fn=keras.losses.BinaryCrossentropy(),\n",
        ")"
      ],
      "metadata": {
        "id": "rXrxi0NaI71S"
      },
      "execution_count": null,
      "outputs": []
    },
    {
      "cell_type": "code",
      "source": [],
      "metadata": {
        "id": "O_HocxBSnZXc"
      },
      "execution_count": null,
      "outputs": []
    },
    {
      "cell_type": "code",
      "source": [
        "NUM_EPOCHS = 801 # number of epochs\n",
        "dcgan.fit(train_images, epochs=NUM_EPOCHS, callbacks=[GANMonitor(num_img=16, latent_dim=LATENT_DIM)])"
      ],
      "metadata": {
        "id": "xaZYBGQ8I89V",
        "colab": {
          "base_uri": "https://localhost:8080/",
          "height": 802
        },
        "outputId": "12020295-6c04-484a-d427-d96fa684110e"
      },
      "execution_count": null,
      "outputs": [
        {
          "output_type": "stream",
          "name": "stdout",
          "text": [
            "30/30 [==============================] - 3s 86ms/step - d_loss: 0.3622 - g_loss: 1.7122\n",
            "Epoch 796/801\n",
            "30/30 [==============================] - 3s 87ms/step - d_loss: 0.3401 - g_loss: 1.8107\n",
            "Epoch 797/801\n",
            "30/30 [==============================] - 4s 108ms/step - d_loss: 0.3557 - g_loss: 1.6691\n",
            "Epoch 798/801\n",
            "30/30 [==============================] - 3s 87ms/step - d_loss: 0.3384 - g_loss: 1.7371\n",
            "Epoch 799/801\n",
            "30/30 [==============================] - 3s 85ms/step - d_loss: 0.3577 - g_loss: 1.7718\n",
            "Epoch 800/801\n",
            "30/30 [==============================] - 20s 667ms/step - d_loss: 0.3437 - g_loss: 1.7781\n",
            "Epoch 801/801\n",
            "30/30 [==============================] - 3s 82ms/step - d_loss: 0.3421 - g_loss: 1.7664\n"
          ]
        },
        {
          "output_type": "stream",
          "name": "stderr",
          "text": [
            "/usr/local/lib/python3.10/dist-packages/keras/src/engine/training.py:3103: UserWarning: You are saving your model as an HDF5 file via `model.save()`. This file format is considered legacy. We recommend using instead the native Keras format, e.g. `model.save('my_model.keras')`.\n",
            "  saving_api.save_model(\n",
            "WARNING:tensorflow:Compiled the loaded model, but the compiled metrics have yet to be built. `model.compile_metrics` will be empty until you train or evaluate the model.\n"
          ]
        },
        {
          "output_type": "display_data",
          "data": {
            "text/plain": [
              "<Figure size 1000x500 with 1 Axes>"
            ],
            "image/png": "[encoded data removed]"
          },
          "metadata": {}
        },
        {
          "output_type": "execute_result",
          "data": {
            "text/plain": [
              "<keras.src.callbacks.History at 0x7cad5b2a1a50>"
            ]
          },
          "metadata": {},
          "execution_count": 21
        }
      ]
    },
    {
      "cell_type": "code",
      "source": [
        "dcgan.d_loss_metric.result()"
      ],
      "metadata": {
        "colab": {
          "base_uri": "https://localhost:8080/"
        },
        "id": "ps2txn99jlum",
        "outputId": "83d7db52-ac21-4db5-c85d-dd18e317a396"
      },
      "execution_count": null,
      "outputs": [
        {
          "output_type": "execute_result",
          "data": {
            "text/plain": [
              "<tf.Tensor: shape=(), dtype=float32, numpy=0.3420649>"
            ]
          },
          "metadata": {},
          "execution_count": 22
        }
      ]
    },
    {
      "cell_type": "code",
      "source": [],
      "metadata": {
        "id": "aU4AUAeGOzrn"
      },
      "execution_count": null,
      "outputs": []
    },
    {
      "cell_type": "code",
      "source": [
        "input_seeed = tf.random.normal([500, 100])"
      ],
      "metadata": {
        "id": "_Os9pKFaOzk3"
      },
      "execution_count": null,
      "outputs": []
    },
    {
      "cell_type": "code",
      "source": [
        "input_seeed.shape"
      ],
      "metadata": {
        "colab": {
          "base_uri": "https://localhost:8080/"
        },
        "id": "zrkPAldtOzeo",
        "outputId": "b44e5168-e8fe-47ff-c52c-b57eace8127d"
      },
      "execution_count": null,
      "outputs": [
        {
          "output_type": "execute_result",
          "data": {
            "text/plain": [
              "TensorShape([500, 100])"
            ]
          },
          "metadata": {},
          "execution_count": 24
        }
      ]
    },
    {
      "cell_type": "code",
      "source": [
        "\n",
        "new_model = tf.keras.models.load_model('generator.h5')"
      ],
      "metadata": {
        "id": "SrV9I8aqOzX7"
      },
      "execution_count": null,
      "outputs": []
    },
    {
      "cell_type": "code",
      "source": [
        "new_model.summary()"
      ],
      "metadata": {
        "id": "MMHBcjrbOzQg"
      },
      "execution_count": null,
      "outputs": []
    },
    {
      "cell_type": "code",
      "source": [],
      "metadata": {
        "id": "8IQVcbw-PQOW"
      },
      "execution_count": null,
      "outputs": []
    },
    {
      "cell_type": "code",
      "source": [],
      "metadata": {
        "id": "icRBeFUyPn7F"
      },
      "execution_count": null,
      "outputs": []
    },
    {
      "cell_type": "code",
      "source": [
        "fig = plt.figure(figsize=(8, 8))\n",
        "for i in range(self.num_img):\n",
        "    plt.subplot(4, 4, i+1)\n",
        "    img = keras.utils.array_to_img(generated_images[i])\n",
        "    plt.imshow(img)\n",
        "    plt.axis('off')\n",
        "plt.savefig('epoch_{:03d}.png'.format(epoch))\n",
        "plt.close()"
      ],
      "metadata": {
        "id": "ANjkZz_VPOYp"
      },
      "execution_count": null,
      "outputs": []
    },
    {
      "cell_type": "code",
      "source": [],
      "metadata": {
        "id": "qPJv8roNPOnx"
      },
      "execution_count": null,
      "outputs": []
    },
    {
      "cell_type": "code",
      "source": [],
      "metadata": {
        "id": "qFcnaGhwOzHA"
      },
      "execution_count": null,
      "outputs": []
    },
    {
      "cell_type": "code",
      "source": [
        "dcgan.d_loss_array[2]"
      ],
      "metadata": {
        "id": "MV0VqZFrk_61"
      },
      "execution_count": null,
      "outputs": []
    },
    {
      "cell_type": "code",
      "source": [
        " self.d_loss_metric = keras.metrics.Mean(name=\"d_loss\")\n",
        "        self.g_loss_metric = keras.metrics.Mean(name=\"g_loss\")"
      ],
      "metadata": {
        "id": "RQGh2pb1g_-s"
      },
      "execution_count": null,
      "outputs": []
    },
    {
      "cell_type": "code",
      "source": [],
      "metadata": {
        "id": "oKXIYgi1g_3D"
      },
      "execution_count": null,
      "outputs": []
    },
    {
      "cell_type": "code",
      "source": [],
      "metadata": {
        "id": "Dt3JU9xUg_Z6"
      },
      "execution_count": null,
      "outputs": []
    },
    {
      "cell_type": "code",
      "source": [
        "!zip -r /content/epoch_output_images.zip /content/*.png\n",
        "\n",
        "!rsync -r --progress \"./epoch_output_images.zip\" \"/content/drive/My Drive/GAN/forest_fire_epoch_images\""
      ],
      "metadata": {
        "id": "q-Oz2dWkI-ih",
        "colab": {
          "base_uri": "https://localhost:8080/"
        },
        "outputId": "be91b432-0a13-441b-ece1-d6330cc2e526"
      },
      "execution_count": null,
      "outputs": [
        {
          "output_type": "stream",
          "name": "stdout",
          "text": [
            "  adding: content/epoch_099.png (deflated 1%)\n",
            "  adding: content/epoch_199.png (deflated 1%)\n",
            "  adding: content/epoch_299.png (deflated 1%)\n",
            "  adding: content/epoch_399.png (deflated 1%)\n",
            "  adding: content/epoch_499.png (deflated 1%)\n",
            "  adding: content/epoch_599.png (deflated 1%)\n",
            "  adding: content/epoch_699.png (deflated 1%)\n",
            "  adding: content/epoch_799.png (deflated 1%)\n",
            "  adding: content/loss_curves.png (deflated 8%)\n",
            "sending incremental file list\n",
            "epoch_output_images.zip\n",
            "      4,139,712 100%  217.59MB/s    0:00:00 (xfr#1, to-chk=0/1)\n"
          ]
        }
      ]
    },
    {
      "cell_type": "code",
      "source": [
        "epoch_list = [100,200,300,400,500,600,700,800]"
      ],
      "metadata": {
        "id": "U3onpPpAC4e7"
      },
      "execution_count": null,
      "outputs": []
    },
    {
      "cell_type": "code",
      "source": [
        "!zip -r /content/generated_images_200.zip /content/generated_images_200\n",
        "\n",
        "!rsync -r --progress \"./generated_images_200.zip\" \"/content/drive/My Drive/GAN/generated_images_200\""
      ],
      "metadata": {
        "id": "73hf1r5IC4JB"
      },
      "execution_count": null,
      "outputs": []
    },
    {
      "cell_type": "code",
      "source": [
        "!zip -r /content/generated_images_300.zip /content/generated_images_300\n",
        "\n",
        "!rsync -r --progress \"./generated_images_300.zip\" \"/content/drive/My Drive/GAN/generated_images_300\""
      ],
      "metadata": {
        "id": "9mErdeG1C4Cn"
      },
      "execution_count": null,
      "outputs": []
    },
    {
      "cell_type": "code",
      "source": [
        "!zip -r /content/generated_images_400.zip /content/generated_images_400\n",
        "\n",
        "!rsync -r --progress \"./generated_images_400.zip\" \"/content/drive/My Drive/GAN/generated_images_400\""
      ],
      "metadata": {
        "id": "pDbNZe_yC38i"
      },
      "execution_count": null,
      "outputs": []
    },
    {
      "cell_type": "code",
      "source": [
        "!zip -r /content/generated_images_500.zip /content/generated_images_500\n",
        "\n",
        "!rsync -r --progress \"./generated_images_500.zip\" \"/content/drive/My Drive/GAN/generated_images_500\""
      ],
      "metadata": {
        "id": "0Vn5S9KWC3hD"
      },
      "execution_count": null,
      "outputs": []
    },
    {
      "cell_type": "code",
      "source": [
        "!zip -r /content/generated_images_600.zip /content/generated_images_600\n",
        "\n",
        "!rsync -r --progress \"./generated_images_600.zip\" \"/content/drive/My Drive/GAN/generated_images_600\""
      ],
      "metadata": {
        "id": "WyIyVQA1gFz9"
      },
      "execution_count": null,
      "outputs": []
    },
    {
      "cell_type": "code",
      "source": [
        "!zip -r /content/generated_images_700.zip /content/generated_images_700\n",
        "\n",
        "!rsync -r --progress \"./generated_images_700.zip\" \"/content/drive/My Drive/GAN/generated_images_700\""
      ],
      "metadata": {
        "id": "RIp6fp8pf2ZC"
      },
      "execution_count": null,
      "outputs": []
    },
    {
      "cell_type": "code",
      "source": [
        "!zip -r /content/generated_images_800.zip /content/generated_images_800\n",
        "\n",
        "!rsync -r --progress \"./generated_images_800.zip\" \"/content/drive/My Drive/GAN/generated_images_800\""
      ],
      "metadata": {
        "id": "kxS-8mJYDQsE"
      },
      "execution_count": null,
      "outputs": []
    },
    {
      "cell_type": "code",
      "source": [],
      "metadata": {
        "id": "3ARw3NcYDQks"
      },
      "execution_count": null,
      "outputs": []
    },
    {
      "cell_type": "code",
      "source": [
        "!rsync -r --progress \"./generator.h5\" \"/content/drive/My Drive/GAN/dcgan_color/\""
      ],
      "metadata": {
        "id": "UOal18H_ImcB",
        "colab": {
          "base_uri": "https://localhost:8080/"
        },
        "outputId": "6b37caeb-1211-4e74-e07f-48a37da83f0d"
      },
      "execution_count": null,
      "outputs": [
        {
          "output_type": "stream",
          "name": "stdout",
          "text": [
            "sending incremental file list\n",
            "created directory /content/drive/My Drive/GAN/dcgan_color\n",
            "generator.h5\n",
            "\r         32,768   0%    0.00kB/s    0:00:00  \r     24,292,768 100%  282.15MB/s    0:00:00 (xfr#1, to-chk=0/1)\n"
          ]
        }
      ]
    },
    {
      "cell_type": "code",
      "source": [
        "import glob"
      ],
      "metadata": {
        "id": "9CWTsm74VMhL"
      },
      "execution_count": null,
      "outputs": []
    },
    {
      "cell_type": "code",
      "source": [
        "all_images_list = []\n",
        "for i in range(1,1000):\n",
        "  all_images_list.append('epoch_{:03d}.png'.format(i))"
      ],
      "metadata": {
        "id": "ysXCgh6aVQFY"
      },
      "execution_count": null,
      "outputs": []
    },
    {
      "cell_type": "code",
      "source": [
        "from PIL import Image, ImageDraw, ImageFont\n",
        "import os\n",
        "\n",
        "def add_text_to_image(image, text):\n",
        "    draw = ImageDraw.Draw(image)\n",
        "    font = ImageFont.load_default()\n",
        "    text_width, text_height = draw.textsize(text, font)\n",
        "    position = (image.width - text_width, 0)\n",
        "    draw.text(position, text, fill='black', font=font)"
      ],
      "metadata": {
        "id": "Pqgz6L-4VQig"
      },
      "execution_count": null,
      "outputs": []
    },
    {
      "cell_type": "code",
      "source": [
        "image_list = []\n",
        "for file_name in all_images_list:\n",
        "  image = Image.open(file_name)\n",
        "  add_text_to_image(image, file_name)\n",
        "  image_list.append(image)"
      ],
      "metadata": {
        "id": "f7R5exdJVRDC"
      },
      "execution_count": null,
      "outputs": []
    },
    {
      "cell_type": "code",
      "source": [
        "# Save the first image as a GIF file\n",
        "image_list[0].save(\n",
        "            'animation_faster.gif',\n",
        "            save_all=True,\n",
        "            append_images=image_list[1:], # append rest of the images\n",
        "            duration=300, # in milliseconds\n",
        "            loop=0)"
      ],
      "metadata": {
        "id": "L8KJrIg9VRiM"
      },
      "execution_count": null,
      "outputs": []
    },
    {
      "cell_type": "code",
      "source": [
        "!rsync -r --progress \"./animation_faster.gif\" \"/content/drive/My Drive/GAN/\""
      ],
      "metadata": {
        "id": "QmdcvuNcVXbQ"
      },
      "execution_count": null,
      "outputs": []
    }
  ]
}